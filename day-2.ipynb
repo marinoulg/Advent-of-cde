{
 "cells": [
  {
   "cell_type": "code",
   "execution_count": 534,
   "metadata": {},
   "outputs": [
    {
     "name": "stdout",
     "output_type": "stream",
     "text": [
      "The autoreload extension is already loaded. To reload it, use:\n",
      "  %reload_ext autoreload\n"
     ]
    }
   ],
   "source": [
    "%load_ext autoreload\n",
    "%autoreload 2\n",
    "\n",
    "import pandas as pd\n",
    "import numpy as np\n",
    "import sys\n",
    "import os\n",
    "\n",
    "from day_2 import *"
   ]
  },
  {
   "cell_type": "markdown",
   "metadata": {},
   "source": [
    "# Example"
   ]
  },
  {
   "cell_type": "code",
   "execution_count": 535,
   "metadata": {},
   "outputs": [],
   "source": [
    "lines = get_data('data/example-day-2.txt')\n",
    "lists = get_lists(lines)\n",
    "diff = get_diff_as_dataframe(lists, 5)\n",
    "diff_list = get_diff_lists_per_row(diff)\n",
    "safes = get_safes(diff_list)\n",
    "final_result = len(safes)"
   ]
  },
  {
   "cell_type": "code",
   "execution_count": 536,
   "metadata": {},
   "outputs": [
    {
     "name": "stdout",
     "output_type": "stream",
     "text": [
      "[-2.0, -2.0, 0.0, -3.0]\n"
     ]
    },
    {
     "data": {
      "text/plain": [
       "[-2.0, -2.0, -3.0]"
      ]
     },
     "execution_count": 536,
     "metadata": {},
     "output_type": "execute_result"
    }
   ],
   "source": [
    "b = diff_list[4]\n",
    "print(b)\n",
    "idx = int(isnegative_except_one(b))\n",
    "b.pop(idx)\n",
    "b"
   ]
  },
  {
   "cell_type": "code",
   "execution_count": 537,
   "metadata": {},
   "outputs": [],
   "source": [
    "# il faut que je drop un chiffre dans ma liste\n",
    "# et ENSUITE je regarde get_safes(diff_list)"
   ]
  },
  {
   "cell_type": "code",
   "execution_count": 538,
   "metadata": {},
   "outputs": [
    {
     "data": {
      "text/plain": [
       "4"
      ]
     },
     "execution_count": 538,
     "metadata": {},
     "output_type": "execute_result"
    }
   ],
   "source": [
    "potentials = get_potentials(diff_list)\n",
    "final_result_2 = get_safes_part2(potentials)\n",
    "final_result_2"
   ]
  },
  {
   "cell_type": "markdown",
   "metadata": {},
   "source": [
    "# Challenge of the day "
   ]
  },
  {
   "cell_type": "code",
   "execution_count": 539,
   "metadata": {},
   "outputs": [
    {
     "data": {
      "text/plain": [
       "359"
      ]
     },
     "execution_count": 539,
     "metadata": {},
     "output_type": "execute_result"
    }
   ],
   "source": [
    "lines = get_data('data/day-2.txt')\n",
    "lists = get_lists(lines)\n",
    "diff = get_diff_as_dataframe(lists, 8)\n",
    "diff_list = get_diff_lists_per_row(diff)\n",
    "safes = get_safes(diff_list)\n",
    "final_result = len(safes)\n",
    "final_result"
   ]
  },
  {
   "cell_type": "code",
   "execution_count": 540,
   "metadata": {},
   "outputs": [
    {
     "data": {
      "text/plain": [
       "6"
      ]
     },
     "execution_count": 540,
     "metadata": {},
     "output_type": "execute_result"
    }
   ],
   "source": [
    "ispositive_except_one(diff_list[1])"
   ]
  },
  {
   "cell_type": "code",
   "execution_count": 541,
   "metadata": {},
   "outputs": [
    {
     "data": {
      "text/plain": [
       "379"
      ]
     },
     "execution_count": 541,
     "metadata": {},
     "output_type": "execute_result"
    }
   ],
   "source": [
    "potentials = get_potentials(diff_list)\n",
    "final_result_2 = get_safes_part2(potentials)\n",
    "final_result_2"
   ]
  },
  {
   "cell_type": "code",
   "execution_count": 542,
   "metadata": {},
   "outputs": [],
   "source": [
    "# 497 is too high\n",
    "# 369 is too low\n",
    "# 379 is False"
   ]
  },
  {
   "cell_type": "code",
   "execution_count": 543,
   "metadata": {},
   "outputs": [],
   "source": [
    "# Other possibilities :\n",
    "    # - 391\n",
    "    # - 425\n",
    "    # - 444\n",
    "    # - 474\n",
    "\n",
    "# ??"
   ]
  }
 ],
 "metadata": {
  "kernelspec": {
   "display_name": "lewagon",
   "language": "python",
   "name": "python3"
  },
  "language_info": {
   "codemirror_mode": {
    "name": "ipython",
    "version": 3
   },
   "file_extension": ".py",
   "mimetype": "text/x-python",
   "name": "python",
   "nbconvert_exporter": "python",
   "pygments_lexer": "ipython3",
   "version": "3.10.6"
  }
 },
 "nbformat": 4,
 "nbformat_minor": 2
}
