{
 "cells": [
  {
   "cell_type": "code",
   "execution_count": 1,
   "metadata": {},
   "outputs": [],
   "source": [
    "%load_ext autoreload\n",
    "%autoreload 2"
   ]
  },
  {
   "cell_type": "code",
   "execution_count": 2,
   "metadata": {},
   "outputs": [],
   "source": [
    "import pandas as pd\n",
    "import numpy as np\n",
    "import sys"
   ]
  },
  {
   "cell_type": "code",
   "execution_count": 3,
   "metadata": {},
   "outputs": [],
   "source": [
    "# sys.path # --> list of all the absolute paths\n",
    "# root_path = \"/Users/marinelegall/code/advent-of-code-2024/day_4.py\"\n",
    "# sys.path.append(root_path)\n",
    "# sys.path"
   ]
  },
  {
   "cell_type": "code",
   "execution_count": 4,
   "metadata": {},
   "outputs": [],
   "source": [
    "from day_4 import get_lines, \\\n",
    "                  count_XMAS_per_line, \\\n",
    "                  get_columns, \\\n",
    "                  create_crossword, \\\n",
    "                  count_XMAS_per_column, \\\n",
    "                  diagonals_backslash, \\\n",
    "                  diagonals_slash, \\\n",
    "                  count_backslash, \\\n",
    "                  count_diagonals_slash"
   ]
  },
  {
   "cell_type": "markdown",
   "metadata": {},
   "source": [
    "I have 140 characters per line, and 141 lines"
   ]
  },
  {
   "cell_type": "code",
   "execution_count": 5,
   "metadata": {},
   "outputs": [],
   "source": [
    "# Instances\n",
    "\n",
    "lines = get_lines(path='data/day-4.txt')\n",
    "columns = get_columns(lines)\n",
    "crossword = create_crossword(columns)\n",
    "diagonals = diagonals_backslash(crossword)\n",
    "diags = diagonals_slash(crossword)"
   ]
  },
  {
   "cell_type": "code",
   "execution_count": 6,
   "metadata": {},
   "outputs": [],
   "source": [
    "# Counts\n",
    "\n",
    "total_lines = count_XMAS_per_line(lines)\n",
    "total_count_col = count_XMAS_per_column(columns)\n",
    "count_diagonals_backslash = count_backslash(diagonals)\n",
    "count_diags_slash = count_diagonals_slash(diags)"
   ]
  },
  {
   "cell_type": "code",
   "execution_count": 7,
   "metadata": {},
   "outputs": [
    {
     "data": {
      "text/plain": [
       "2014"
      ]
     },
     "execution_count": 7,
     "metadata": {},
     "output_type": "execute_result"
    }
   ],
   "source": [
    "total_lines + total_count_col + count_diagonals_backslash + count_diags_slash"
   ]
  },
  {
   "cell_type": "markdown",
   "metadata": {},
   "source": [
    "## Trying with example"
   ]
  },
  {
   "cell_type": "code",
   "execution_count": 8,
   "metadata": {},
   "outputs": [],
   "source": [
    "# Instances\n",
    "char_per_line = len('MMMSXXMASM')\n",
    "\n",
    "lines = get_lines('data/example-day-4.txt', char_per_line)\n",
    "columns = get_columns(lines)\n",
    "crossword = create_crossword(columns, char_per_line)\n",
    "diagonals = diagonals_backslash(crossword, char_per_line)\n",
    "diags = diagonals_slash(crossword, char_per_line)"
   ]
  },
  {
   "cell_type": "code",
   "execution_count": 9,
   "metadata": {},
   "outputs": [],
   "source": [
    "# Counts\n",
    "\n",
    "total_lines = count_XMAS_per_line(lines)\n",
    "total_count_col = count_XMAS_per_column(columns)\n",
    "count_diagonals_backslash = count_backslash(diagonals)\n",
    "count_diags_slash = count_diagonals_slash(diags)"
   ]
  },
  {
   "cell_type": "code",
   "execution_count": 10,
   "metadata": {},
   "outputs": [
    {
     "data": {
      "text/plain": [
       "17"
      ]
     },
     "execution_count": 10,
     "metadata": {},
     "output_type": "execute_result"
    }
   ],
   "source": [
    "total_lines + total_count_col + count_diagonals_backslash + count_diags_slash # I should find 18 !!!"
   ]
  }
 ],
 "metadata": {
  "kernelspec": {
   "display_name": "lewagon",
   "language": "python",
   "name": "python3"
  },
  "language_info": {
   "codemirror_mode": {
    "name": "ipython",
    "version": 3
   },
   "file_extension": ".py",
   "mimetype": "text/x-python",
   "name": "python",
   "nbconvert_exporter": "python",
   "pygments_lexer": "ipython3",
   "version": "3.10.6"
  }
 },
 "nbformat": 4,
 "nbformat_minor": 2
}
